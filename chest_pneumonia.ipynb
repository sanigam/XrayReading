{
  "nbformat": 4,
  "nbformat_minor": 0,
  "metadata": {
    "colab": {
      "name": "chest_pneumonia.ipynb",
      "provenance": [],
      "collapsed_sections": []
    },
    "kernelspec": {
      "name": "python3",
      "display_name": "Python 3"
    },
    "accelerator": "GPU"
  },
  "cells": [
    {
      "cell_type": "code",
      "metadata": {
        "id": "LuvqdeYzCbJX"
      },
      "source": [
        "#!pip install split-folders"
      ],
      "execution_count": null,
      "outputs": []
    },
    {
      "cell_type": "code",
      "metadata": {
        "id": "60GOhYtwC5j_"
      },
      "source": [
        "#import splitfolders"
      ],
      "execution_count": null,
      "outputs": []
    },
    {
      "cell_type": "code",
      "metadata": {
        "id": "UnvgOQaktmVB"
      },
      "source": [
        "import numpy as np\n",
        "import os\n",
        "\n",
        "# Install TensorFlow\n",
        "try:\n",
        "  # %tensorflow_version only exists in Colab.\n",
        "  %tensorflow_version 2.x\n",
        "except Exception:\n",
        "  pass\n",
        "import PIL.Image as Image\n",
        "import tensorflow as tf\n",
        "import cv2"
      ],
      "execution_count": null,
      "outputs": []
    },
    {
      "cell_type": "code",
      "metadata": {
        "id": "NmpHgg9mtt0b"
      },
      "source": [
        "from tensorflow.keras.preprocessing.image import ImageDataGenerator\n",
        "import os\n",
        "import matplotlib.pyplot as plt\n",
        "import tensorflow_hub as hub\n",
        "import tensorflow_datasets as tfds"
      ],
      "execution_count": null,
      "outputs": []
    },
    {
      "cell_type": "code",
      "metadata": {
        "colab": {
          "base_uri": "https://localhost:8080/"
        },
        "id": "oOABVcqc9Ef0",
        "outputId": "84241484-a559-4c83-c8f7-19d282aae42e"
      },
      "source": [
        "from google.colab import drive\n",
        "drive.mount('/content/drive')"
      ],
      "execution_count": null,
      "outputs": [
        {
          "output_type": "stream",
          "text": [
            "Mounted at /content/drive\n"
          ],
          "name": "stdout"
        }
      ]
    },
    {
      "cell_type": "code",
      "metadata": {
        "id": "N98XYURemL_E"
      },
      "source": [
        "def plot_metrics(history):\n",
        "  metrics = ['loss', 'auc', 'precision', 'recall']\n",
        "  for n, metric in enumerate(metrics):\n",
        "    name = metric.replace(\"_\",\" \").capitalize()\n",
        "    plt.subplot(2,2,n+1)\n",
        "    plt.plot(history.epoch, history.history[metric], color=colors[0], label='Train')\n",
        "    plt.plot(history.epoch, history.history['val_'+metric],\n",
        "             color=colors[0], linestyle=\"--\", label='Val')\n",
        "    plt.xlabel('Epoch')\n",
        "    plt.ylabel(name)\n",
        "    if metric == 'loss':\n",
        "      plt.ylim([0, plt.ylim()[1]])\n",
        "    elif metric == 'auc':\n",
        "      plt.ylim([0.8,1])\n",
        "    else:\n",
        "      plt.ylim([0,1])\n",
        "\n",
        "    plt.legend()"
      ],
      "execution_count": null,
      "outputs": []
    },
    {
      "cell_type": "code",
      "metadata": {
        "id": "CRMnMjTSkYpo"
      },
      "source": [
        ""
      ],
      "execution_count": null,
      "outputs": []
    },
    {
      "cell_type": "code",
      "metadata": {
        "colab": {
          "base_uri": "https://localhost:8080/"
        },
        "id": "sPRIV3yIGlpH",
        "outputId": "3067b891-d629-455a-afc9-e567dc7c4543"
      },
      "source": [
        "!cd /content/drive/MyDrive/\n",
        "!pwd"
      ],
      "execution_count": null,
      "outputs": [
        {
          "output_type": "stream",
          "text": [
            "/content\n"
          ],
          "name": "stdout"
        }
      ]
    },
    {
      "cell_type": "code",
      "metadata": {
        "id": "I3oXd4p-T21_"
      },
      "source": [
        "#To convert image to greyscale\n",
        "# target_directory = '/content/drive/MyDrive/Colab/Pneumonia/train/PNEUMONIA/'\n",
        "\n",
        "# ind = 0\n",
        "# for file in os.listdir(target_directory):\n",
        "#     try:\n",
        "#       im = Image.open(target_directory + file)\n",
        "#       if len(np.array(im).shape) == 3 :\n",
        "#         im = im.convert('L')\n",
        "#         im.save(target_directory + file)\n",
        "#         ind += 1\n",
        "#         if ind%100 == 0 :\n",
        "#           print('Number of images done =', ind)\n",
        "#     except OSError:\n",
        "#         print('Cannot convert %s' % file)\n",
        "# print('Number of images done =', ind)\n",
        "\n"
      ],
      "execution_count": null,
      "outputs": []
    },
    {
      "cell_type": "code",
      "metadata": {
        "id": "tHDxT1rDTVjK"
      },
      "source": [
        "# from zipfile import ZipFile\n",
        "# zip_file = '/content/drive/MyDrive/Colab/pneumonia.zip'\n",
        "# destination = '/content/drive/MyDrive/Colab/'\n",
        "\n",
        "# with ZipFile(zip_file ) as fileobj:\n",
        "#     fileobj.extractall()"
      ],
      "execution_count": null,
      "outputs": []
    },
    {
      "cell_type": "code",
      "metadata": {
        "id": "AoqPAVaYZPq9"
      },
      "source": [
        "#!ls -ls /content/drive/MyDrive/Colab/TB_Data/train/Normal/*.jpg | tail -20"
      ],
      "execution_count": null,
      "outputs": []
    },
    {
      "cell_type": "code",
      "metadata": {
        "id": "mn5Ed5N0DXBD"
      },
      "source": [
        "# input_folder = '/content/drive/MyDrive/Colab/TB_Data/Normal'\n",
        "# output_folder = './drive/MyDrive/Colab/TB_Data'\n",
        "# splitfolders.ratio('/content/drive/MyDrive/Colab/TB_Data', output='/content/drive/MyDrive/Colab/TB_Data', seed=7, ratio=(.8, .2), group_prefix=None) # default values"
      ],
      "execution_count": null,
      "outputs": []
    },
    {
      "cell_type": "code",
      "metadata": {
        "id": "sIFMntgq6iCL"
      },
      "source": [
        "base_dir =  '/content/drive/MyDrive/Colab/Pneumonia'\n",
        "train_dir = os.path.join(base_dir, 'train')\n",
        "validation_dir = os.path.join(base_dir, 'val')\n",
        "\n",
        "train_norm_dir = os.path.join(train_dir, 'NORMAL') \n",
        "train_pn_dir = os.path.join(train_dir, 'PNEUMONIA')  # directory with our training dog pictures\n",
        "validation_norm_dir = os.path.join(validation_dir, 'NORMAL')  # directory with our validation cat pictures\n",
        "validation_pn_dir = os.path.join(validation_dir, 'PNEUMONIA')  # directory with our validation dog pictures"
      ],
      "execution_count": null,
      "outputs": []
    },
    {
      "cell_type": "code",
      "metadata": {
        "id": "MrafR0D86sB-"
      },
      "source": [
        "num_norm_tr = len(os.listdir(train_norm_dir))\n",
        "num_pn_tr = len(os.listdir(train_pn_dir))\n",
        "\n",
        "num_norm_val = len(os.listdir(validation_norm_dir))\n",
        "num_pn_val = len(os.listdir(validation_pn_dir))\n",
        "\n",
        "total_train = num_norm_tr + num_pn_tr\n",
        "total_val = num_norm_val + num_pn_val\n"
      ],
      "execution_count": null,
      "outputs": []
    },
    {
      "cell_type": "code",
      "metadata": {
        "id": "RSoBcitE6uQG",
        "colab": {
          "base_uri": "https://localhost:8080/"
        },
        "outputId": "6365e0e5-8c68-4269-c396-1cef792cc830"
      },
      "source": [
        "print('total training Normal images:', num_norm_tr)\n",
        "print('total training Pneumonia images:', num_pn_tr)\n",
        "\n",
        "print('total validation Normal images:', num_norm_val)\n",
        "print('total validation Pneumonia images:', num_pn_val)\n",
        "print(\"--\")\n",
        "print(\"Total training images:\", total_train)\n",
        "print(\"Total validation images:\", total_val)"
      ],
      "execution_count": null,
      "outputs": [
        {
          "output_type": "stream",
          "text": [
            "total training Normal images: 1341\n",
            "total training Pneumonia images: 3875\n",
            "total validation Normal images: 234\n",
            "total validation Pneumonia images: 390\n",
            "--\n",
            "Total training images: 5216\n",
            "Total validation images: 624\n"
          ],
          "name": "stdout"
        }
      ]
    },
    {
      "cell_type": "code",
      "metadata": {
        "colab": {
          "base_uri": "https://localhost:8080/"
        },
        "id": "w7iIq2pWR_rY",
        "outputId": "53e1ac11-a672-4b96-e36f-8edb05aea559"
      },
      "source": [
        "# Scaling by total/2 helps keep the loss to a similar magnitude.\n",
        "# The sum of the weights of all examples stays the same.\n",
        "weight_for_norm = (1 / num_norm_tr)*(total_train)/2.0 \n",
        "weight_for_pn = (1 / num_pn_tr)*(total_train)/2.0\n",
        "\n",
        "class_weight = {0: weight_for_norm, 1: weight_for_pn}\n",
        "\n",
        "print('Weight for class Normal: {:.2f}'.format(weight_for_norm))\n",
        "print('Weight for class Pneumonia: {:.2f}'.format(weight_for_pn))"
      ],
      "execution_count": null,
      "outputs": [
        {
          "output_type": "stream",
          "text": [
            "Weight for class Normal: 1.94\n",
            "Weight for class Pneumonia: 0.67\n"
          ],
          "name": "stdout"
        }
      ]
    },
    {
      "cell_type": "code",
      "metadata": {
        "id": "TrxDXFPkI7di",
        "colab": {
          "base_uri": "https://localhost:8080/"
        },
        "outputId": "4f5a9788-979d-47f4-ac8f-51bd525a85ce"
      },
      "source": [
        "!ls /content/drive/MyDrive/Colab/Pneumonia/train/NORMAL/ | head -5"
      ],
      "execution_count": null,
      "outputs": [
        {
          "output_type": "stream",
          "text": [
            "IM-0115-0001.jpeg\n",
            "IM-0117-0001.jpeg\n",
            "IM-0119-0001.jpeg\n",
            "IM-0122-0001.jpeg\n",
            "IM-0125-0001.jpeg\n"
          ],
          "name": "stdout"
        }
      ]
    },
    {
      "cell_type": "code",
      "metadata": {
        "id": "izqeYYDxTgzb"
      },
      "source": [
        "IMAGE_RES = 256\n",
        "import PIL.Image as Image"
      ],
      "execution_count": null,
      "outputs": []
    },
    {
      "cell_type": "code",
      "metadata": {
        "id": "FcdwxLhoFxSq",
        "colab": {
          "base_uri": "https://localhost:8080/",
          "height": 290
        },
        "outputId": "402a300d-72b2-4aa3-afe5-9142f208e567"
      },
      "source": [
        "normal = Image.open(\"/content/drive/MyDrive/Colab/Pneumonia/train/NORMAL/IM-0115-0001.jpeg\").resize((IMAGE_RES, IMAGE_RES) )\n",
        "display(normal)\n",
        "normal = np.array(normal)/255.0\n",
        "normal.shape"
      ],
      "execution_count": null,
      "outputs": [
        {
          "output_type": "display_data",
          "data": {
            "image/png": "[encoded data removed]",
            "text/plain": [
              "<PIL.Image.Image image mode=L size=256x256 at 0x7F71D6E835C0>"
            ]
          },
          "metadata": {
            "tags": []
          }
        },
        {
          "output_type": "execute_result",
          "data": {
            "text/plain": [
              "(256, 256)"
            ]
          },
          "metadata": {
            "tags": []
          },
          "execution_count": 13
        }
      ]
    },
    {
      "cell_type": "code",
      "metadata": {
        "id": "O8o_0iEXjbt4"
      },
      "source": [
        "#!ls -ls /content/drive/MyDrive/Colab/Pneumonia/train/PNEUMONIA"
      ],
      "execution_count": null,
      "outputs": []
    },
    {
      "cell_type": "code",
      "metadata": {
        "colab": {
          "base_uri": "https://localhost:8080/",
          "height": 290
        },
        "id": "h_Mraiq0i7Ly",
        "outputId": "41c08ce1-a3c6-49b1-eb3d-ef4e52518f22"
      },
      "source": [
        "pn = Image.open(\"/content/drive/MyDrive/Colab/Pneumonia/train/PNEUMONIA/person1170_virus_1969.jpeg\").resize((IMAGE_RES, IMAGE_RES) )\n",
        "display(pn)\n",
        "pn = np.array(pn)/255.0\n",
        "pn.shape"
      ],
      "execution_count": null,
      "outputs": [
        {
          "output_type": "display_data",
          "data": {
            "image/png": "[encoded data removed]",
            "text/plain": [
              "<PIL.Image.Image image mode=L size=256x256 at 0x7F7191FAFD68>"
            ]
          },
          "metadata": {
            "tags": []
          }
        },
        {
          "output_type": "execute_result",
          "data": {
            "text/plain": [
              "(256, 256)"
            ]
          },
          "metadata": {
            "tags": []
          },
          "execution_count": 15
        }
      ]
    },
    {
      "cell_type": "code",
      "metadata": {
        "id": "WC2WJgbQNVNS"
      },
      "source": [
        ""
      ],
      "execution_count": null,
      "outputs": []
    },
    {
      "cell_type": "markdown",
      "metadata": {
        "id": "7Ik2z6C3ckwX"
      },
      "source": [
        ""
      ]
    },
    {
      "cell_type": "code",
      "metadata": {
        "id": "t9Cw_EBVT8lo"
      },
      "source": [
        "#!ls /content/drive/MyDrive/Colab/Pneumonia/train/PNEUMONIA/ | tail -5"
      ],
      "execution_count": null,
      "outputs": []
    },
    {
      "cell_type": "code",
      "metadata": {
        "id": "a741pMaBDgC9"
      },
      "source": [
        "IMAGE_RES=100"
      ],
      "execution_count": null,
      "outputs": []
    },
    {
      "cell_type": "code",
      "metadata": {
        "id": "N4ode12bM31T",
        "colab": {
          "base_uri": "https://localhost:8080/",
          "height": 134
        },
        "outputId": "c8bccbc9-eee3-46a7-d1d9-8a3c0a9b966e"
      },
      "source": [
        "pn = Image.open(\"/content/drive/MyDrive/Colab/Pneumonia/train/PNEUMONIA/person1668_bacteria_4421.jpeg\").resize((IMAGE_RES, IMAGE_RES))\n",
        "display(pn)\n",
        "pn = np.array(pn)/255\n",
        "pn.shape\n"
      ],
      "execution_count": null,
      "outputs": [
        {
          "output_type": "display_data",
          "data": {
            "image/png": "[encoded data removed]",
            "text/plain": [
              "<PIL.Image.Image image mode=L size=100x100 at 0x7F530B0320B8>"
            ]
          },
          "metadata": {
            "tags": []
          }
        },
        {
          "output_type": "execute_result",
          "data": {
            "text/plain": [
              "(100, 100)"
            ]
          },
          "metadata": {
            "tags": []
          },
          "execution_count": 21
        }
      ]
    },
    {
      "cell_type": "code",
      "metadata": {
        "id": "67iHLueZcWP8"
      },
      "source": [
        "#!ls -ls /content/drive/MyDrive/Colab/Pneumonia/val/PNEUMONIA"
      ],
      "execution_count": null,
      "outputs": []
    },
    {
      "cell_type": "code",
      "metadata": {
        "colab": {
          "base_uri": "https://localhost:8080/",
          "height": 134
        },
        "id": "NnEh4zZocPoQ",
        "outputId": "50c93dfc-bd85-4dd4-b916-7a2f4e47585c"
      },
      "source": [
        "normal = Image.open(\"/content/drive/MyDrive/Colab/Pneumonia/val/NORMAL/NORMAL2-IM-0353-0001.jpeg\").resize((IMAGE_RES, IMAGE_RES) )\n",
        "display(normal)\n",
        "normal = np.array(normal)/255.0\n",
        "normal.shape"
      ],
      "execution_count": null,
      "outputs": [
        {
          "output_type": "display_data",
          "data": {
            "image/png": "[encoded data removed]",
            "text/plain": [
              "<PIL.Image.Image image mode=L size=100x100 at 0x7F530B032278>"
            ]
          },
          "metadata": {
            "tags": []
          }
        },
        {
          "output_type": "execute_result",
          "data": {
            "text/plain": [
              "(100, 100)"
            ]
          },
          "metadata": {
            "tags": []
          },
          "execution_count": 23
        }
      ]
    },
    {
      "cell_type": "code",
      "metadata": {
        "colab": {
          "base_uri": "https://localhost:8080/",
          "height": 134
        },
        "id": "fW9Dcs3dcuMs",
        "outputId": "1b7f6103-e3b9-4563-bcc4-87d4f419b8f4"
      },
      "source": [
        "pn = Image.open(\"/content/drive/MyDrive/Colab/Pneumonia/val/PNEUMONIA/person95_bacteria_463.jpeg\").resize((IMAGE_RES, IMAGE_RES) )\n",
        "display(pn)\n",
        "pn = np.array(normal)/255.0\n",
        "pn.shape"
      ],
      "execution_count": null,
      "outputs": [
        {
          "output_type": "display_data",
          "data": {
            "image/png": "[encoded data removed]",
            "text/plain": [
              "<PIL.Image.Image image mode=L size=100x100 at 0x7F53523D3C88>"
            ]
          },
          "metadata": {
            "tags": []
          }
        },
        {
          "output_type": "execute_result",
          "data": {
            "text/plain": [
              "(100, 100)"
            ]
          },
          "metadata": {
            "tags": []
          },
          "execution_count": 24
        }
      ]
    },
    {
      "cell_type": "code",
      "metadata": {
        "id": "rNKLY8fOrKrX"
      },
      "source": [
        "BATCH_SIZE = 200  # Number of training examples to process before updating our models variables\n",
        "IMG_SHAPE = 256"
      ],
      "execution_count": null,
      "outputs": []
    },
    {
      "cell_type": "code",
      "metadata": {
        "id": "TmltBjJ_rTdE"
      },
      "source": [
        "train_image_generator      = ImageDataGenerator(rescale=1./255)  # Generator for our training data\n",
        "validation_image_generator = ImageDataGenerator(rescale=1./255)  # Generator for our validation data"
      ],
      "execution_count": null,
      "outputs": []
    },
    {
      "cell_type": "code",
      "metadata": {
        "id": "HeAa_ZgpraHV",
        "colab": {
          "base_uri": "https://localhost:8080/"
        },
        "outputId": "d52a3dd7-67d9-4a75-c3ac-21935d4950f5"
      },
      "source": [
        "\n",
        "train_data_gen = train_image_generator.flow_from_directory(batch_size=BATCH_SIZE,\n",
        "                                                           directory=train_dir,\n",
        "                                                           shuffle=True,\n",
        "                                                           target_size=(IMG_SHAPE,IMG_SHAPE), \n",
        "                                                           class_mode='binary', \n",
        "                                                           color_mode= 'grayscale')"
      ],
      "execution_count": null,
      "outputs": [
        {
          "output_type": "stream",
          "text": [
            "Found 5216 images belonging to 2 classes.\n"
          ],
          "name": "stdout"
        }
      ]
    },
    {
      "cell_type": "code",
      "metadata": {
        "id": "LNOqMEkhreoR",
        "colab": {
          "base_uri": "https://localhost:8080/"
        },
        "outputId": "4e01e01e-988c-4ad0-ac01-db793782759e"
      },
      "source": [
        "val_data_gen = validation_image_generator.flow_from_directory(batch_size=BATCH_SIZE,\n",
        "                                                              directory=validation_dir,\n",
        "                                                              shuffle=False,\n",
        "                                                              target_size=(IMG_SHAPE,IMG_SHAPE), \n",
        "                                                              class_mode='binary',\n",
        "                                                              color_mode= 'grayscale')"
      ],
      "execution_count": null,
      "outputs": [
        {
          "output_type": "stream",
          "text": [
            "Found 624 images belonging to 2 classes.\n"
          ],
          "name": "stdout"
        }
      ]
    },
    {
      "cell_type": "code",
      "metadata": {
        "id": "7luRU3LDrjBV"
      },
      "source": [
        "sample_training_images, _ = next(train_data_gen) "
      ],
      "execution_count": null,
      "outputs": []
    },
    {
      "cell_type": "code",
      "metadata": {
        "id": "y8KllMGrrwMR"
      },
      "source": [
        "# This function will plot images in the form of a grid with 1 row and 5 columns where images are placed in each column.\n",
        "def plotImages(images_arr):\n",
        "    fig, axes = plt.subplots(1, 5, figsize=(20,20))\n",
        "    axes = axes.flatten()\n",
        "    for img, ax in zip(images_arr, axes):\n",
        "        ax.imshow(img)\n",
        "    plt.tight_layout()\n",
        "    plt.show()"
      ],
      "execution_count": null,
      "outputs": []
    },
    {
      "cell_type": "code",
      "metadata": {
        "id": "QSE-hEGYr0lT"
      },
      "source": [
        "#plotImages(sample_training_images[:5])  # Plot images 0-4"
      ],
      "execution_count": null,
      "outputs": []
    },
    {
      "cell_type": "code",
      "metadata": {
        "id": "8Qxg3zg5AP01",
        "colab": {
          "base_uri": "https://localhost:8080/"
        },
        "outputId": "4c698d1d-1746-40d8-fa76-6b4ef45ee935"
      },
      "source": [
        "sample_training_images.shape"
      ],
      "execution_count": null,
      "outputs": [
        {
          "output_type": "execute_result",
          "data": {
            "text/plain": [
              "(200, 256, 256, 1)"
            ]
          },
          "metadata": {
            "tags": []
          },
          "execution_count": 89
        }
      ]
    },
    {
      "cell_type": "code",
      "metadata": {
        "id": "t3vAU3Oer54g"
      },
      "source": [
        "model = tf.keras.models.Sequential([\n",
        "    tf.keras.layers.Conv2D(64, (3,3), activation='relu', input_shape=(IMG_SHAPE, IMG_SHAPE,1)),\n",
        "    tf.keras.layers.MaxPooling2D(2, 2),\n",
        "\n",
        "    tf.keras.layers.Conv2D(128, (3,3), activation='relu'),\n",
        "    tf.keras.layers.MaxPooling2D(2,2),\n",
        "    \n",
        "    tf.keras.layers.Conv2D(64, (3,3), activation='relu'),\n",
        "    tf.keras.layers.MaxPooling2D(2,2),\n",
        "    \n",
        "    # tf.keras.layers.Conv2D(128, (3,3), activation='relu'),\n",
        "    # tf.keras.layers.MaxPooling2D(2,2),\n",
        "    \n",
        "    tf.keras.layers.Flatten(),\n",
        "   # tf.keras.layers.GlobalAveragePooling2D(),\n",
        "\n",
        "    tf.keras.layers.Dense(512, activation='relu'),\n",
        "    tf.keras.layers.Dropout(.5), \n",
        "    tf.keras.layers.Dense(256, activation='relu'),\n",
        "    tf.keras.layers.Dense(1, activation='sigmoid')\n",
        "])"
      ],
      "execution_count": null,
      "outputs": []
    },
    {
      "cell_type": "code",
      "metadata": {
        "id": "RNdiQQcer_Cc"
      },
      "source": [
        "model.compile(optimizer=tf.keras.optimizers.Adam(learning_rate=1e-5),\n",
        "              loss='binary_crossentropy',\n",
        "              metrics=['accuracy'],\n",
        "               )"
      ],
      "execution_count": null,
      "outputs": []
    },
    {
      "cell_type": "code",
      "metadata": {
        "colab": {
          "base_uri": "https://localhost:8080/"
        },
        "id": "_Z8UlrVt_0hz",
        "outputId": "59fa9017-1c73-48f8-89e9-c371ab1ea5b6"
      },
      "source": [
        "model.summary()"
      ],
      "execution_count": null,
      "outputs": [
        {
          "output_type": "stream",
          "text": [
            "Model: \"sequential_4\"\n",
            "_________________________________________________________________\n",
            "Layer (type)                 Output Shape              Param #   \n",
            "=================================================================\n",
            "conv2d_12 (Conv2D)           (None, 254, 254, 64)      640       \n",
            "_________________________________________________________________\n",
            "max_pooling2d_12 (MaxPooling (None, 127, 127, 64)      0         \n",
            "_________________________________________________________________\n",
            "conv2d_13 (Conv2D)           (None, 125, 125, 128)     73856     \n",
            "_________________________________________________________________\n",
            "max_pooling2d_13 (MaxPooling (None, 62, 62, 128)       0         \n",
            "_________________________________________________________________\n",
            "conv2d_14 (Conv2D)           (None, 60, 60, 64)        73792     \n",
            "_________________________________________________________________\n",
            "max_pooling2d_14 (MaxPooling (None, 30, 30, 64)        0         \n",
            "_________________________________________________________________\n",
            "flatten_4 (Flatten)          (None, 57600)             0         \n",
            "_________________________________________________________________\n",
            "dense_12 (Dense)             (None, 512)               29491712  \n",
            "_________________________________________________________________\n",
            "dropout_4 (Dropout)          (None, 512)               0         \n",
            "_________________________________________________________________\n",
            "dense_13 (Dense)             (None, 256)               131328    \n",
            "_________________________________________________________________\n",
            "dense_14 (Dense)             (None, 1)                 257       \n",
            "=================================================================\n",
            "Total params: 29,771,585\n",
            "Trainable params: 29,771,585\n",
            "Non-trainable params: 0\n",
            "_________________________________________________________________\n"
          ],
          "name": "stdout"
        }
      ]
    },
    {
      "cell_type": "code",
      "metadata": {
        "id": "sibaV4Jz9LK8"
      },
      "source": [
        "#model = tf.keras.models.load_model('/content/drive/MyDrive/Colab/pneumonia_model_cnn')"
      ],
      "execution_count": null,
      "outputs": []
    },
    {
      "cell_type": "code",
      "metadata": {
        "colab": {
          "base_uri": "https://localhost:8080/"
        },
        "id": "JQpEwlKCsFCf",
        "outputId": "82aba8ec-d06b-4f3b-aedb-7fd9f5657a2c"
      },
      "source": [
        "EPOCHS = 10\n",
        "history = model.fit_generator(\n",
        "    train_data_gen,\n",
        "    #steps_per_epoch=int(np.ceil(total_train / float(BATCH_SIZE))),\n",
        "    epochs=EPOCHS,\n",
        "    validation_data=val_data_gen,\n",
        "    #validation_steps=int(np.ceil(total_val / float(BATCH_SIZE))), \n",
        "    class_weight=class_weight\n",
        "    )"
      ],
      "execution_count": null,
      "outputs": [
        {
          "output_type": "stream",
          "text": [
            "/usr/local/lib/python3.6/dist-packages/tensorflow/python/keras/engine/training.py:1844: UserWarning: `Model.fit_generator` is deprecated and will be removed in a future version. Please use `Model.fit`, which supports generators.\n",
            "  warnings.warn('`Model.fit_generator` is deprecated and '\n"
          ],
          "name": "stderr"
        },
        {
          "output_type": "stream",
          "text": [
            "Epoch 1/10\n",
            "27/27 [==============================] - 61s 2s/step - loss: 0.1848 - accuracy: 0.9331 - val_loss: 0.3515 - val_accuracy: 0.8494\n",
            "Epoch 2/10\n",
            "27/27 [==============================] - 58s 2s/step - loss: 0.1719 - accuracy: 0.9367 - val_loss: 0.3195 - val_accuracy: 0.8686\n",
            "Epoch 3/10\n",
            "27/27 [==============================] - 58s 2s/step - loss: 0.1653 - accuracy: 0.9363 - val_loss: 0.3980 - val_accuracy: 0.8285\n",
            "Epoch 4/10\n",
            "27/27 [==============================] - 58s 2s/step - loss: 0.1557 - accuracy: 0.9402 - val_loss: 0.3468 - val_accuracy: 0.8638\n",
            "Epoch 5/10\n",
            "27/27 [==============================] - 58s 2s/step - loss: 0.1458 - accuracy: 0.9509 - val_loss: 0.3480 - val_accuracy: 0.8654\n",
            "Epoch 6/10\n",
            "27/27 [==============================] - 58s 2s/step - loss: 0.1340 - accuracy: 0.9479 - val_loss: 0.3955 - val_accuracy: 0.8381\n",
            "Epoch 7/10\n",
            "27/27 [==============================] - 58s 2s/step - loss: 0.1279 - accuracy: 0.9525 - val_loss: 0.4134 - val_accuracy: 0.8301\n",
            "Epoch 8/10\n",
            "27/27 [==============================] - 58s 2s/step - loss: 0.1277 - accuracy: 0.9528 - val_loss: 0.4404 - val_accuracy: 0.8205\n",
            "Epoch 9/10\n",
            "27/27 [==============================] - 58s 2s/step - loss: 0.1206 - accuracy: 0.9536 - val_loss: 0.2890 - val_accuracy: 0.8782\n",
            "Epoch 10/10\n",
            "27/27 [==============================] - 58s 2s/step - loss: 0.1184 - accuracy: 0.9542 - val_loss: 0.4363 - val_accuracy: 0.8317\n"
          ],
          "name": "stdout"
        }
      ]
    },
    {
      "cell_type": "code",
      "metadata": {
        "colab": {
          "base_uri": "https://localhost:8080/",
          "height": 499
        },
        "id": "DtQNcNl5sW4r",
        "outputId": "6c09bb40-78c9-4f04-f3ac-ed1e82566d67"
      },
      "source": [
        "acc = history.history['accuracy']\n",
        "val_acc = history.history['val_accuracy']\n",
        "\n",
        "loss = history.history['loss']\n",
        "val_loss = history.history['val_loss']\n",
        "\n",
        "epochs_range = range(EPOCHS)\n",
        "\n",
        "plt.figure(figsize=(8, 8))\n",
        "plt.subplot(1, 2, 1)\n",
        "plt.plot(epochs_range, acc, label='Training Accuracy')\n",
        "plt.plot(epochs_range, val_acc, label='Validation Accuracy')\n",
        "plt.legend(loc='lower right')\n",
        "plt.title('Training and Validation Accuracy')\n",
        "\n",
        "plt.subplot(1, 2, 2)\n",
        "plt.plot(epochs_range, loss, label='Training Loss')\n",
        "plt.plot(epochs_range, val_loss, label='Validation Loss')\n",
        "plt.legend(loc='upper right')\n",
        "plt.title('Training and Validation Loss')\n",
        "plt.savefig('./foo.png')\n",
        "plt.show()"
      ],
      "execution_count": null,
      "outputs": [
        {
          "output_type": "display_data",
          "data": {
            "image/png": "[encoded data removed]",
            "text/plain": [
              "<Figure size 576x576 with 2 Axes>"
            ]
          },
          "metadata": {
            "tags": [],
            "needs_background": "light"
          }
        }
      ]
    },
    {
      "cell_type": "code",
      "metadata": {
        "colab": {
          "base_uri": "https://localhost:8080/"
        },
        "id": "TtoVBD5hsq83",
        "outputId": "fb286375-2e68-4571-e696-10082268fc8c"
      },
      "source": [
        "model.save('/content/drive/MyDrive/Colab/pneumonia_model_cnn')"
      ],
      "execution_count": null,
      "outputs": [
        {
          "output_type": "stream",
          "text": [
            "INFO:tensorflow:Assets written to: /content/drive/MyDrive/Colab/pneumonia_model_cnn/assets\n"
          ],
          "name": "stdout"
        }
      ]
    },
    {
      "cell_type": "code",
      "metadata": {
        "id": "7L7-z35tqHY5"
      },
      "source": [
        "model_cnn = tf.keras.models.load_model('/content/drive/MyDrive/Colab/pneumonia_model_cnn')"
      ],
      "execution_count": null,
      "outputs": []
    },
    {
      "cell_type": "code",
      "metadata": {
        "id": "WoIYc857BLN2"
      },
      "source": [
        "#model_cnn = model"
      ],
      "execution_count": null,
      "outputs": []
    },
    {
      "cell_type": "code",
      "metadata": {
        "id": "nFnD9nb6qS5K"
      },
      "source": [
        "def predict_class(model, image_size, imgray):\n",
        "  img=np.array(imgray)/255\n",
        "  #print(img.shape)\n",
        "  if len(img.shape) != 2 :\n",
        "    print (\"Image must be 2 dimensional grey image\")\n",
        "    return \"Error\"\n",
        "  #img = np.tile(img[:, :, None], [1, 1, 3])\n",
        "  #print(img.shape)\n",
        "  img = img.reshape(-1,image_size, image_size, 1 )\n",
        "  #print(img.shape)\n",
        "  pred = model.predict(img)\n",
        "  if np.round(pred) == 1:\n",
        "    return \"Pneumonia\"\n",
        "  else: \n",
        "    return \"Normal\""
      ],
      "execution_count": null,
      "outputs": []
    },
    {
      "cell_type": "code",
      "metadata": {
        "colab": {
          "base_uri": "https://localhost:8080/",
          "height": 291
        },
        "id": "qLpquJTkFRgr",
        "outputId": "47ba1f02-2325-4a82-f11c-290daa69ab0f"
      },
      "source": [
        "imgray = Image.open(os.path.join(validation_pn_dir, \"person101_bacteria_484.jpeg\")).resize((IMG_SHAPE,IMG_SHAPE)) \n",
        "display(imgray)\n",
        "predict_class(model_cnn, IMG_SHAPE, imgray)"
      ],
      "execution_count": null,
      "outputs": [
        {
          "output_type": "display_data",
          "data": {
            "image/png": "[encoded data removed]",
            "text/plain": [
              "<PIL.Image.Image image mode=L size=256x256 at 0x7F71286CD550>"
            ]
          },
          "metadata": {
            "tags": []
          }
        },
        {
          "output_type": "execute_result",
          "data": {
            "application/vnd.google.colaboratory.intrinsic+json": {
              "type": "string"
            },
            "text/plain": [
              "'Pneumonia'"
            ]
          },
          "metadata": {
            "tags": []
          },
          "execution_count": 22
        }
      ]
    },
    {
      "cell_type": "code",
      "metadata": {
        "colab": {
          "base_uri": "https://localhost:8080/",
          "height": 291
        },
        "id": "rzMZgu2eMOvr",
        "outputId": "ba908e9b-feb7-4ee4-f606-9f1521341b40"
      },
      "source": [
        "imgray = Image.open(os.path.join(validation_norm_dir, \"IM-0001-0001.jpeg\")).resize((IMG_SHAPE,IMG_SHAPE)) \n",
        "display(imgray)\n",
        "predict_class(model_cnn,IMG_SHAPE, imgray)"
      ],
      "execution_count": null,
      "outputs": [
        {
          "output_type": "display_data",
          "data": {
            "image/png": "[encoded data removed]",
            "text/plain": [
              "<PIL.Image.Image image mode=L size=256x256 at 0x7F71297126D8>"
            ]
          },
          "metadata": {
            "tags": []
          }
        },
        {
          "output_type": "execute_result",
          "data": {
            "application/vnd.google.colaboratory.intrinsic+json": {
              "type": "string"
            },
            "text/plain": [
              "'Normal'"
            ]
          },
          "metadata": {
            "tags": []
          },
          "execution_count": 23
        }
      ]
    },
    {
      "cell_type": "code",
      "metadata": {
        "id": "kBPLbAYnCQlz"
      },
      "source": [
        "#validation for normal images \n",
        "def validation(model, image_size, validation_dir):\n",
        "  tot = 0\n",
        "  norm = 0\n",
        "  pn =0\n",
        "  err = 0\n",
        "  for file in os.listdir(validation_dir):\n",
        "    imgray = Image.open(os.path.join(validation_dir, file) ).resize((image_size,image_size))\n",
        "    pred = predict_class(model,image_size, imgray)\n",
        "    if pred == \"Normal\":\n",
        "      norm += 1\n",
        "    elif pred == \"Pneumonia\":\n",
        "      pn += 1\n",
        "    elif pred not in [\"Normal\", \"Pneumonia\"] :\n",
        "      print(\"Error, Image Name:\", file)\n",
        "      err += 1\n",
        "    tot += 1\n",
        "  print (tot, norm, pn , err)"
      ],
      "execution_count": null,
      "outputs": []
    },
    {
      "cell_type": "code",
      "metadata": {
        "colab": {
          "base_uri": "https://localhost:8080/"
        },
        "id": "IslYCYqUuGbG",
        "outputId": "3c74dd41-c796-4f1a-987b-bdba182336a2"
      },
      "source": [
        "validation(model_cnn, IMG_SHAPE, validation_norm_dir)\n",
        "validation(model_cnn, IMG_SHAPE, validation_pn_dir)"
      ],
      "execution_count": null,
      "outputs": [
        {
          "output_type": "stream",
          "text": [
            "234 188 46 0\n",
            "390 27 363 0\n"
          ],
          "name": "stdout"
        }
      ]
    },
    {
      "cell_type": "code",
      "metadata": {
        "colab": {
          "base_uri": "https://localhost:8080/"
        },
        "id": "D87mBhm9Bcdr",
        "outputId": "738d3c5b-70e9-4234-f9b6-dfbaad54302c"
      },
      "source": [
        "(188+363)/(234+390)\n",
        "\n"
      ],
      "execution_count": null,
      "outputs": [
        {
          "output_type": "execute_result",
          "data": {
            "text/plain": [
              "0.8830128205128205"
            ]
          },
          "metadata": {
            "tags": []
          },
          "execution_count": 26
        }
      ]
    },
    {
      "cell_type": "code",
      "metadata": {
        "colab": {
          "base_uri": "https://localhost:8080/"
        },
        "id": "mCoxrzApWuM1",
        "outputId": "7b94a655-3bfc-4701-9084-ca3312171035"
      },
      "source": [
        "validation(model_cnn, IMG_SHAPE, train_norm_dir)\n",
        "validation(model_cnn, IMG_SHAPE, train_pn_dir)"
      ],
      "execution_count": null,
      "outputs": [
        {
          "output_type": "stream",
          "text": [
            "1341 1293 48 0\n",
            "3875 346 3529 0\n"
          ],
          "name": "stdout"
        }
      ]
    },
    {
      "cell_type": "code",
      "metadata": {
        "id": "kl8eTBkbXtYt"
      },
      "source": [
        "#########################################################\n",
        "############VGG\n",
        "#########################################################"
      ],
      "execution_count": null,
      "outputs": []
    },
    {
      "cell_type": "code",
      "metadata": {
        "colab": {
          "base_uri": "https://localhost:8080/"
        },
        "id": "Bar_sYEtuPJQ",
        "outputId": "f8a9d86a-fb63-4551-d5a1-e44557f6382d"
      },
      "source": [
        "IMG_SHAPE= 224\n",
        "BATCH_SIZE=100\n",
        "train_image_generator      = ImageDataGenerator(rescale=1./255)  # Generator for our training data\n",
        "validation_image_generator = ImageDataGenerator(rescale=1./255)  # Generator for our validation data\n",
        "\n",
        "train_data_gen = train_image_generator.flow_from_directory(batch_size=BATCH_SIZE,\n",
        "                                                           directory=train_dir,\n",
        "                                                           shuffle=True,\n",
        "                                                           target_size=(IMG_SHAPE,IMG_SHAPE), \n",
        "                                                           class_mode='binary')\n",
        "\n",
        "val_data_gen = validation_image_generator.flow_from_directory(batch_size=BATCH_SIZE,\n",
        "                                                              directory=validation_dir,\n",
        "                                                              shuffle=False,\n",
        "                                                              target_size=(IMG_SHAPE,IMG_SHAPE), \n",
        "                                                              class_mode='binary')"
      ],
      "execution_count": null,
      "outputs": [
        {
          "output_type": "stream",
          "text": [
            "Found 5216 images belonging to 2 classes.\n",
            "Found 624 images belonging to 2 classes.\n"
          ],
          "name": "stdout"
        }
      ]
    },
    {
      "cell_type": "code",
      "metadata": {
        "id": "-OyXf5GSnWIt"
      },
      "source": [
        "from keras.applications.vgg16 import VGG16\n",
        "from keras.layers import Conv2D, MaxPooling2D, GlobalAveragePooling2D, Flatten, Dense, Dropout\n",
        "from keras.models import Model"
      ],
      "execution_count": null,
      "outputs": []
    },
    {
      "cell_type": "code",
      "metadata": {
        "id": "99WLW87knrnS"
      },
      "source": [
        "\n",
        "base_model = VGG16(weights='imagenet', include_top=False, input_shape=(IMG_SHAPE,IMG_SHAPE,3))\n",
        "for layer in base_model.layers:\n",
        "  layer.trainable = False\n",
        "x = base_model.output\n",
        "#x= GlobalAveragePooling2D()(x)\n",
        "x = tf.keras.layers.MaxPooling2D(2,2)(x)\n",
        "x = tf.keras.layers.Flatten()(x)\n",
        "x=Dense(512, activation='relu')(x)\n",
        "x = tf.keras.layers.Dropout(.5)(x)\n",
        "x=Dense(256, activation='relu')(x)\n",
        "predictions = Dense(1, activation='sigmoid')(x)\n",
        "\n",
        "model = Model(inputs=base_model.input, outputs=predictions)\n",
        "for layer in base_model.layers:\n",
        "  layer.train=False"
      ],
      "execution_count": null,
      "outputs": []
    },
    {
      "cell_type": "code",
      "metadata": {
        "id": "0Yp84Nx6nyxi"
      },
      "source": [
        "from keras import optimizers\n",
        "\n",
        "model.compile(loss='binary_crossentropy', optimizer = optimizers.RMSprop(lr=1e-5), metrics=['accuracy'] )"
      ],
      "execution_count": null,
      "outputs": []
    },
    {
      "cell_type": "code",
      "metadata": {
        "colab": {
          "base_uri": "https://localhost:8080/"
        },
        "id": "A05VoP7BrLDz",
        "outputId": "0665a719-1392-4dc1-b18a-ee0647e0f476"
      },
      "source": [
        "model.summary()"
      ],
      "execution_count": null,
      "outputs": [
        {
          "output_type": "stream",
          "text": [
            "Model: \"model_4\"\n",
            "_________________________________________________________________\n",
            "Layer (type)                 Output Shape              Param #   \n",
            "=================================================================\n",
            "input_5 (InputLayer)         [(None, 224, 224, 3)]     0         \n",
            "_________________________________________________________________\n",
            "block1_conv1 (Conv2D)        (None, 224, 224, 64)      1792      \n",
            "_________________________________________________________________\n",
            "block1_conv2 (Conv2D)        (None, 224, 224, 64)      36928     \n",
            "_________________________________________________________________\n",
            "block1_pool (MaxPooling2D)   (None, 112, 112, 64)      0         \n",
            "_________________________________________________________________\n",
            "block2_conv1 (Conv2D)        (None, 112, 112, 128)     73856     \n",
            "_________________________________________________________________\n",
            "block2_conv2 (Conv2D)        (None, 112, 112, 128)     147584    \n",
            "_________________________________________________________________\n",
            "block2_pool (MaxPooling2D)   (None, 56, 56, 128)       0         \n",
            "_________________________________________________________________\n",
            "block3_conv1 (Conv2D)        (None, 56, 56, 256)       295168    \n",
            "_________________________________________________________________\n",
            "block3_conv2 (Conv2D)        (None, 56, 56, 256)       590080    \n",
            "_________________________________________________________________\n",
            "block3_conv3 (Conv2D)        (None, 56, 56, 256)       590080    \n",
            "_________________________________________________________________\n",
            "block3_pool (MaxPooling2D)   (None, 28, 28, 256)       0         \n",
            "_________________________________________________________________\n",
            "block4_conv1 (Conv2D)        (None, 28, 28, 512)       1180160   \n",
            "_________________________________________________________________\n",
            "block4_conv2 (Conv2D)        (None, 28, 28, 512)       2359808   \n",
            "_________________________________________________________________\n",
            "block4_conv3 (Conv2D)        (None, 28, 28, 512)       2359808   \n",
            "_________________________________________________________________\n",
            "block4_pool (MaxPooling2D)   (None, 14, 14, 512)       0         \n",
            "_________________________________________________________________\n",
            "block5_conv1 (Conv2D)        (None, 14, 14, 512)       2359808   \n",
            "_________________________________________________________________\n",
            "block5_conv2 (Conv2D)        (None, 14, 14, 512)       2359808   \n",
            "_________________________________________________________________\n",
            "block5_conv3 (Conv2D)        (None, 14, 14, 512)       2359808   \n",
            "_________________________________________________________________\n",
            "block5_pool (MaxPooling2D)   (None, 7, 7, 512)         0         \n",
            "_________________________________________________________________\n",
            "max_pooling2d_3 (MaxPooling2 (None, 3, 3, 512)         0         \n",
            "_________________________________________________________________\n",
            "flatten_4 (Flatten)          (None, 4608)              0         \n",
            "_________________________________________________________________\n",
            "dense_9 (Dense)              (None, 512)               2359808   \n",
            "_________________________________________________________________\n",
            "dropout_4 (Dropout)          (None, 512)               0         \n",
            "_________________________________________________________________\n",
            "dense_10 (Dense)             (None, 256)               131328    \n",
            "_________________________________________________________________\n",
            "dense_11 (Dense)             (None, 1)                 257       \n",
            "=================================================================\n",
            "Total params: 17,206,081\n",
            "Trainable params: 2,491,393\n",
            "Non-trainable params: 14,714,688\n",
            "_________________________________________________________________\n"
          ],
          "name": "stdout"
        }
      ]
    },
    {
      "cell_type": "code",
      "metadata": {
        "colab": {
          "base_uri": "https://localhost:8080/"
        },
        "id": "4DCs5jNafGij",
        "outputId": "5a97759d-fe55-4b33-f595-f6a6dd4e587b"
      },
      "source": [
        "print (class_weight)"
      ],
      "execution_count": null,
      "outputs": [
        {
          "output_type": "stream",
          "text": [
            "{0: 1.9448173005219984, 1: 0.6730322580645162}\n"
          ],
          "name": "stdout"
        }
      ]
    },
    {
      "cell_type": "code",
      "metadata": {
        "colab": {
          "base_uri": "https://localhost:8080/"
        },
        "id": "WaMehCCIn3QF",
        "outputId": "741d816b-08ad-4fc1-ee7d-d7d70ad013b4"
      },
      "source": [
        "EPOCHS=25\n",
        "\n",
        "history = model.fit(train_data_gen, epochs= EPOCHS, validation_data=val_data_gen, \n",
        "          validation_steps=int(np.ceil(total_val / float(BATCH_SIZE))) , class_weight = class_weight)"
      ],
      "execution_count": null,
      "outputs": [
        {
          "output_type": "stream",
          "text": [
            "Epoch 1/25\n",
            "53/53 [==============================] - 68s 1s/step - loss: 0.6775 - accuracy: 0.6289 - val_loss: 0.5010 - val_accuracy: 0.8189\n",
            "Epoch 2/25\n",
            "53/53 [==============================] - 65s 1s/step - loss: 0.4838 - accuracy: 0.7854 - val_loss: 0.4062 - val_accuracy: 0.8462\n",
            "Epoch 3/25\n",
            "53/53 [==============================] - 64s 1s/step - loss: 0.3579 - accuracy: 0.8703 - val_loss: 0.3577 - val_accuracy: 0.8558\n",
            "Epoch 4/25\n",
            "53/53 [==============================] - 64s 1s/step - loss: 0.2765 - accuracy: 0.9017 - val_loss: 0.3418 - val_accuracy: 0.8574\n",
            "Epoch 5/25\n",
            "53/53 [==============================] - 64s 1s/step - loss: 0.2313 - accuracy: 0.9103 - val_loss: 0.3387 - val_accuracy: 0.8558\n",
            "Epoch 6/25\n",
            "53/53 [==============================] - 65s 1s/step - loss: 0.2040 - accuracy: 0.9181 - val_loss: 0.3292 - val_accuracy: 0.8686\n",
            "Epoch 7/25\n",
            "53/53 [==============================] - 64s 1s/step - loss: 0.1783 - accuracy: 0.9282 - val_loss: 0.3209 - val_accuracy: 0.8766\n",
            "Epoch 8/25\n",
            "53/53 [==============================] - 64s 1s/step - loss: 0.1641 - accuracy: 0.9332 - val_loss: 0.3352 - val_accuracy: 0.8734\n",
            "Epoch 9/25\n",
            "53/53 [==============================] - 64s 1s/step - loss: 0.1620 - accuracy: 0.9429 - val_loss: 0.3577 - val_accuracy: 0.8654\n",
            "Epoch 10/25\n",
            "53/53 [==============================] - 64s 1s/step - loss: 0.1541 - accuracy: 0.9409 - val_loss: 0.3372 - val_accuracy: 0.8734\n",
            "Epoch 11/25\n",
            "53/53 [==============================] - 64s 1s/step - loss: 0.1440 - accuracy: 0.9431 - val_loss: 0.3225 - val_accuracy: 0.8798\n",
            "Epoch 12/25\n",
            "53/53 [==============================] - 64s 1s/step - loss: 0.1347 - accuracy: 0.9444 - val_loss: 0.3670 - val_accuracy: 0.8622\n",
            "Epoch 13/25\n",
            "53/53 [==============================] - 64s 1s/step - loss: 0.1344 - accuracy: 0.9457 - val_loss: 0.3464 - val_accuracy: 0.8750\n",
            "Epoch 14/25\n",
            "53/53 [==============================] - 64s 1s/step - loss: 0.1191 - accuracy: 0.9538 - val_loss: 0.3403 - val_accuracy: 0.8782\n",
            "Epoch 15/25\n",
            "53/53 [==============================] - 64s 1s/step - loss: 0.1259 - accuracy: 0.9533 - val_loss: 0.3637 - val_accuracy: 0.8686\n",
            "Epoch 16/25\n",
            "53/53 [==============================] - 64s 1s/step - loss: 0.1056 - accuracy: 0.9641 - val_loss: 0.3610 - val_accuracy: 0.8702\n",
            "Epoch 17/25\n",
            "53/53 [==============================] - 64s 1s/step - loss: 0.1139 - accuracy: 0.9555 - val_loss: 0.3800 - val_accuracy: 0.8622\n",
            "Epoch 18/25\n",
            "53/53 [==============================] - 64s 1s/step - loss: 0.1103 - accuracy: 0.9579 - val_loss: 0.3731 - val_accuracy: 0.8686\n",
            "Epoch 19/25\n",
            "53/53 [==============================] - 64s 1s/step - loss: 0.1017 - accuracy: 0.9596 - val_loss: 0.3781 - val_accuracy: 0.8622\n",
            "Epoch 20/25\n",
            "53/53 [==============================] - 64s 1s/step - loss: 0.1059 - accuracy: 0.9602 - val_loss: 0.4000 - val_accuracy: 0.8526\n",
            "Epoch 21/25\n",
            "53/53 [==============================] - 64s 1s/step - loss: 0.0950 - accuracy: 0.9657 - val_loss: 0.3743 - val_accuracy: 0.8654\n",
            "Epoch 22/25\n",
            "53/53 [==============================] - 64s 1s/step - loss: 0.0928 - accuracy: 0.9626 - val_loss: 0.4101 - val_accuracy: 0.8494\n",
            "Epoch 23/25\n",
            "53/53 [==============================] - 64s 1s/step - loss: 0.0963 - accuracy: 0.9645 - val_loss: 0.3792 - val_accuracy: 0.8670\n",
            "Epoch 24/25\n",
            "53/53 [==============================] - 64s 1s/step - loss: 0.0957 - accuracy: 0.9629 - val_loss: 0.3618 - val_accuracy: 0.8718\n",
            "Epoch 25/25\n",
            "53/53 [==============================] - 65s 1s/step - loss: 0.0923 - accuracy: 0.9643 - val_loss: 0.3806 - val_accuracy: 0.8654\n"
          ],
          "name": "stdout"
        }
      ]
    },
    {
      "cell_type": "code",
      "metadata": {
        "id": "lYcgesswhDj0"
      },
      "source": [
        ""
      ],
      "execution_count": null,
      "outputs": []
    },
    {
      "cell_type": "code",
      "metadata": {
        "colab": {
          "base_uri": "https://localhost:8080/",
          "height": 499
        },
        "id": "HFyae_l4ptWG",
        "outputId": "db8d4275-2724-4311-cd63-91eeec7d90b5"
      },
      "source": [
        "acc = history.history['accuracy']\n",
        "val_acc = history.history['val_accuracy']\n",
        "\n",
        "loss = history.history['loss']\n",
        "val_loss = history.history['val_loss']\n",
        "\n",
        "epochs_range = range(EPOCHS)\n",
        "\n",
        "plt.figure(figsize=(8, 8))\n",
        "plt.subplot(1, 2, 1)\n",
        "plt.plot(epochs_range, acc, label='Training Accuracy')\n",
        "plt.plot(epochs_range, val_acc, label='Validation Accuracy')\n",
        "plt.legend(loc='lower right')\n",
        "plt.title('Training and Validation Accuracy')\n",
        "\n",
        "plt.subplot(1, 2, 2)\n",
        "plt.plot(epochs_range, loss, label='Training Loss')\n",
        "plt.plot(epochs_range, val_loss, label='Validation Loss')\n",
        "plt.legend(loc='upper right')\n",
        "plt.title('Training and Validation Loss')\n",
        "plt.savefig('./foo.png')\n",
        "plt.show()"
      ],
      "execution_count": null,
      "outputs": [
        {
          "output_type": "display_data",
          "data": {
            "image/png": "[encoded data removed]",
            "text/plain": [
              "<Figure size 576x576 with 2 Axes>"
            ]
          },
          "metadata": {
            "tags": [],
            "needs_background": "light"
          }
        }
      ]
    },
    {
      "cell_type": "code",
      "metadata": {
        "id": "-0zd2y3dhUlS"
      },
      "source": [
        ""
      ],
      "execution_count": null,
      "outputs": []
    },
    {
      "cell_type": "code",
      "metadata": {
        "colab": {
          "base_uri": "https://localhost:8080/"
        },
        "id": "s62sWiSBp19w",
        "outputId": "16e9811b-263f-4aa9-8025-1b11009f756c"
      },
      "source": [
        "model.save('/content/drive/MyDrive/Colab/pneumonia_model_vgg')"
      ],
      "execution_count": null,
      "outputs": [
        {
          "output_type": "stream",
          "text": [
            "INFO:tensorflow:Assets written to: /content/drive/MyDrive/Colab/pneumonia_model_vgg/assets\n"
          ],
          "name": "stdout"
        }
      ]
    },
    {
      "cell_type": "code",
      "metadata": {
        "id": "7bN0bVAQs1J6"
      },
      "source": [
        "model_vgg = tf.keras.models.load_model('/content/drive/MyDrive/Colab/pneumonia_model_vgg')"
      ],
      "execution_count": null,
      "outputs": []
    },
    {
      "cell_type": "code",
      "metadata": {
        "id": "9hb3ARYq557u"
      },
      "source": [
        "def predict_class(model, image_size, imgray):\n",
        "  img=np.array(imgray)/255\n",
        "  #print(img.shape)\n",
        "  if len(img.shape) != 2 :\n",
        "    print (\"Image must be 2 dimensional grey image\")\n",
        "    return \"Error\"\n",
        "  img = np.tile(img[:, :, None], [1, 1, 3])\n",
        "  #print(img.shape)\n",
        "  img = img.reshape(-1,image_size, image_size, 3 )\n",
        "  #print(img.shape)\n",
        "  pred = model.predict(img)\n",
        "  if np.round(pred) == 1:\n",
        "    return \"Pneumonia\"\n",
        "  else: \n",
        "    return \"Normal\""
      ],
      "execution_count": null,
      "outputs": []
    },
    {
      "cell_type": "code",
      "metadata": {
        "colab": {
          "base_uri": "https://localhost:8080/",
          "height": 52
        },
        "id": "goptP-8gs_2e",
        "outputId": "666651da-3625-4dbd-bcdc-76e4bc8b4d10"
      },
      "source": [
        "print(IMG_SHAPE)\n",
        "imgray = Image.open(os.path.join(validation_pn_dir, \"person101_bacteria_484.jpeg\")).resize((IMG_SHAPE,IMG_SHAPE)) \n",
        "predict_class(model_vgg,IMG_SHAPE, imgray)"
      ],
      "execution_count": null,
      "outputs": [
        {
          "output_type": "stream",
          "text": [
            "224\n"
          ],
          "name": "stdout"
        },
        {
          "output_type": "execute_result",
          "data": {
            "application/vnd.google.colaboratory.intrinsic+json": {
              "type": "string"
            },
            "text/plain": [
              "'Pneumonia'"
            ]
          },
          "metadata": {
            "tags": []
          },
          "execution_count": 69
        }
      ]
    },
    {
      "cell_type": "code",
      "metadata": {
        "colab": {
          "base_uri": "https://localhost:8080/",
          "height": 35
        },
        "id": "DKCuUXujtE57",
        "outputId": "75a07a78-fa1e-48ab-d095-5e3318f4ee82"
      },
      "source": [
        "imgray = Image.open(os.path.join(validation_norm_dir, \"IM-0001-0001.jpeg\")).resize((IMG_SHAPE,IMG_SHAPE)) \n",
        "predict_class(model_vgg, IMG_SHAPE,imgray)"
      ],
      "execution_count": null,
      "outputs": [
        {
          "output_type": "execute_result",
          "data": {
            "application/vnd.google.colaboratory.intrinsic+json": {
              "type": "string"
            },
            "text/plain": [
              "'Pneumonia'"
            ]
          },
          "metadata": {
            "tags": []
          },
          "execution_count": 70
        }
      ]
    },
    {
      "cell_type": "code",
      "metadata": {
        "colab": {
          "base_uri": "https://localhost:8080/"
        },
        "id": "XE0iZXGVuQeq",
        "outputId": "8ff10488-49a1-4202-8858-5540903f5029"
      },
      "source": [
        "print(IMG_SHAPE)\n",
        "validation(model, IMG_SHAPE, validation_norm_dir)\n",
        "validation(model, IMG_SHAPE, validation_pn_dir)"
      ],
      "execution_count": null,
      "outputs": [
        {
          "output_type": "stream",
          "text": [
            "224\n",
            "234 138 96 0\n",
            "390 5 385 0\n"
          ],
          "name": "stdout"
        }
      ]
    },
    {
      "cell_type": "code",
      "metadata": {
        "colab": {
          "base_uri": "https://localhost:8080/"
        },
        "id": "au89dxc7XIj6",
        "outputId": "631b7604-2ca1-468f-898f-9d26e6b58401"
      },
      "source": [
        "print(IMG_SHAPE)\n",
        "validation(model, IMG_SHAPE, train_norm_dir)\n",
        "validation(model, IMG_SHAPE, train_pn_dir)"
      ],
      "execution_count": null,
      "outputs": [
        {
          "output_type": "stream",
          "text": [
            "224\n",
            "1341 1202 139 0\n",
            "3875 681 3194 0\n"
          ],
          "name": "stdout"
        }
      ]
    },
    {
      "cell_type": "markdown",
      "metadata": {
        "id": "dYy9yUPO07sO"
      },
      "source": [
        "***"
      ]
    },
    {
      "cell_type": "code",
      "metadata": {
        "id": "eZ8aleP5Pfsg"
      },
      "source": [
        ""
      ],
      "execution_count": null,
      "outputs": []
    }
  ]
}